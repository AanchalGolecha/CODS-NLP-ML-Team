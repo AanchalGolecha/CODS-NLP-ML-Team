{
 "cells": [
  {
   "cell_type": "code",
   "execution_count": 225,
   "metadata": {},
   "outputs": [
    {
     "data": {
      "text/html": [
       "<div>\n",
       "<style scoped>\n",
       "    .dataframe tbody tr th:only-of-type {\n",
       "        vertical-align: middle;\n",
       "    }\n",
       "\n",
       "    .dataframe tbody tr th {\n",
       "        vertical-align: top;\n",
       "    }\n",
       "\n",
       "    .dataframe thead th {\n",
       "        text-align: right;\n",
       "    }\n",
       "</style>\n",
       "<table border=\"1\" class=\"dataframe\">\n",
       "  <thead>\n",
       "    <tr style=\"text-align: right;\">\n",
       "      <th></th>\n",
       "      <th>Tweets</th>\n",
       "      <th>Date Created</th>\n",
       "      <th>Image URL</th>\n",
       "    </tr>\n",
       "  </thead>\n",
       "  <tbody>\n",
       "    <tr>\n",
       "      <th>0</th>\n",
       "      <td>Covid19 Bulletin: 11th June 2020\\n\\nTotal Conf...</td>\n",
       "      <td>2020-06-11 12:38:47</td>\n",
       "      <td>http://pbs.twimg.com/media/EaO1p-4XYAIDaG7.jpg</td>\n",
       "    </tr>\n",
       "    <tr>\n",
       "      <th>1</th>\n",
       "      <td>Covid19 Bulletin: 10th June 2020\\n\\nTotal Conf...</td>\n",
       "      <td>2020-06-10 12:55:13</td>\n",
       "      <td>http://pbs.twimg.com/media/EaJv1sfVAAIGltx.jpg</td>\n",
       "    </tr>\n",
       "  </tbody>\n",
       "</table>\n",
       "</div>"
      ],
      "text/plain": [
       "                                              Tweets        Date Created  \\\n",
       "0  Covid19 Bulletin: 11th June 2020\\n\\nTotal Conf... 2020-06-11 12:38:47   \n",
       "1  Covid19 Bulletin: 10th June 2020\\n\\nTotal Conf... 2020-06-10 12:55:13   \n",
       "\n",
       "                                        Image URL  \n",
       "0  http://pbs.twimg.com/media/EaO1p-4XYAIDaG7.jpg  \n",
       "1  http://pbs.twimg.com/media/EaJv1sfVAAIGltx.jpg  "
      ]
     },
     "execution_count": 225,
     "metadata": {},
     "output_type": "execute_result"
    }
   ],
   "source": [
    "import tweepy\n",
    "import json\n",
    "import pandas as pd\n",
    "\n",
    "# import twitter_credentials\n",
    "consumer_key = \"cFf7im7BH68xO9qh3zEsv3nFz\"\n",
    "consumer_secret = \"2QyodEVK63XYE5D9RFPAo0I53rhBOsNocQGpGB8rapmEqxDnJi\"\n",
    "access_key = \"1265319352795975680-EJBIU55ZHZnjn8svR420cqVuU9evRL\"\n",
    "access_secret = \"i8h2utF6b2l2Uh7Vpg6c2mnPOO1CuthGdbyWtHSWdIURP\"\n",
    "\n",
    "auth = tweepy.OAuthHandler(consumer_key, consumer_secret) \n",
    "auth.set_access_token(access_key, access_secret) \n",
    "api = tweepy.API(auth) \n",
    "\n",
    "screenname = \"CMofKarnataka\"\n",
    "tweet, tweets_dates, img_url, img = [], [], [], []\n",
    "\n",
    "tweets = api.user_timeline(screen_name=screenname,count=20,tweet_mode=\"extended\")  \n",
    "tweet = []\n",
    "tweets_dates = []\n",
    "img_url = []\n",
    "\n",
    "for status in tweets:\n",
    "    if \"Covid19 Bulletin:\" in status.full_text:\n",
    "        tweet.append(status.full_text)\n",
    "        tweets_dates.append(status.created_at)\n",
    "        for media in status.extended_entities['media']:\n",
    "#             jidk = (status.entities[\"urls\"][0])\n",
    "#             jsn_str.append(jidk[\"expanded_url\"])\n",
    "            img_url.append(media['media_url'])\n",
    "img = []         \n",
    "for i in range(1,len(img_url),4):\n",
    "    try:\n",
    "        img.append(img_url[i])\n",
    "    except:\n",
    "        pass\n",
    "    \n",
    "df = pd.DataFrame({\"Tweets\":tweet,\"Date Created\":tweets_dates,\"Image URL\":img})\n",
    "df.to_csv(screenname+'.csv')\n",
    "df"
   ]
  },
  {
   "cell_type": "code",
   "execution_count": 226,
   "metadata": {
    "scrolled": true
   },
   "outputs": [
    {
     "data": {
      "text/plain": [
       "['http://pbs.twimg.com/media/EaO1pObXgAATsOa.jpg',\n",
       " 'http://pbs.twimg.com/media/EaO1p-4XYAIDaG7.jpg',\n",
       " 'http://pbs.twimg.com/media/EaO1rWNWkAI8OFz.jpg',\n",
       " 'http://pbs.twimg.com/media/EaO1sIfXkAA6Ppz.jpg',\n",
       " 'http://pbs.twimg.com/media/EaJv1GvUwAApxGG.jpg',\n",
       " 'http://pbs.twimg.com/media/EaJv1sfVAAIGltx.jpg',\n",
       " 'http://pbs.twimg.com/media/EaJv2UFU8AAVYqc.jpg',\n",
       " 'http://pbs.twimg.com/media/EaJv28EUMAAHD3r.jpg']"
      ]
     },
     "execution_count": 226,
     "metadata": {},
     "output_type": "execute_result"
    }
   ],
   "source": [
    "jsn_str"
   ]
  },
  {
   "cell_type": "code",
   "execution_count": 227,
   "metadata": {},
   "outputs": [
    {
     "data": {
      "text/plain": [
       "['http://pbs.twimg.com/media/EaO1p-4XYAIDaG7.jpg',\n",
       " 'http://pbs.twimg.com/media/EaJv1sfVAAIGltx.jpg']"
      ]
     },
     "execution_count": 227,
     "metadata": {},
     "output_type": "execute_result"
    }
   ],
   "source": [
    "img"
   ]
  }
 ],
 "metadata": {
  "kernelspec": {
   "display_name": "Python 3",
   "language": "python",
   "name": "python3"
  },
  "language_info": {
   "codemirror_mode": {
    "name": "ipython",
    "version": 3
   },
   "file_extension": ".py",
   "mimetype": "text/x-python",
   "name": "python",
   "nbconvert_exporter": "python",
   "pygments_lexer": "ipython3",
   "version": "3.7.7"
  }
 },
 "nbformat": 4,
 "nbformat_minor": 4
}
