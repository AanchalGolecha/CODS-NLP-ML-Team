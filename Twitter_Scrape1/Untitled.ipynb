{
 "cells": [
  {
   "cell_type": "markdown",
   "metadata": {},
   "source": [
    "# EXTRACT THE TWEET\n"
   ]
  },
  {
   "cell_type": "code",
   "execution_count": 1,
   "metadata": {},
   "outputs": [],
   "source": [
    "# from selenium import webdriver\n",
    "# import time\n",
    "# link = 'https://t.co/WDn16d4Biz'\n",
    "# driver = webdriver.Chrome(executable_path='C:\\Program Files (x86)\\Google\\Chrome\\Application\\chromedriver.exe') #the path where chromedriver.exe is installed in your local system\n",
    "# driver.get(link)\n",
    "# time.sleep(10)\n",
    "# elements = []\n",
    "# for i in range(2, 4):\n",
    "#     try:\n",
    "#         elements.append(driver.find_elements_by_xpath('/html/body/div/div/div/div[2]/main/div/div/div/div/div/div/div/section/div/div/div/div[' + str(i) + ']/div/div/div/div/article/div/div[2]/div[2]/div[2]/div[1]/div/span'))\n",
    "#     except:\n",
    "#         continue\n",
    "# for i in elements:\n",
    "#     for j in i:\n",
    "#         print(j.text)\n",
    "# driver.close()"
   ]
  },
  {
   "cell_type": "markdown",
   "metadata": {},
   "source": [
    "# CM OF KARNATAKA"
   ]
  },
  {
   "cell_type": "code",
   "execution_count": 2,
   "metadata": {},
   "outputs": [],
   "source": [
    "# from selenium import webdriver\n",
    "# import time\n",
    "# link = 'https://twitter.com/CMofKarnataka/status/1270353657301741571'\n",
    "# driver = webdriver.Chrome(executable_path='C:\\MozScraper\\Chrome\\chromedriver.exe') #the path where chromedriver.exe is installed in your local system\n",
    "# driver.get(link)\n",
    "# time.sleep(10)\n",
    "# elements = []\n",
    "\n",
    "# try:\n",
    "#     elements.extend(driver.find_elements_by_css_selector('span.css-901oao.css-16my406.r-1qd0xha.r-ad9z0x.r-bcqeeo.r-qvutc0'))\n",
    "# except:\n",
    "#     pass\n",
    "# for i in elements:\n",
    "#     print(i.text)\n",
    "# driver.close()"
   ]
  },
  {
   "cell_type": "markdown",
   "metadata": {},
   "source": [
    "# IMAGES"
   ]
  },
  {
   "cell_type": "code",
   "execution_count": 3,
   "metadata": {},
   "outputs": [],
   "source": [
    "# from selenium import webdriver\n",
    "# import time\n",
    "# link = 'https://twitter.com/CMofKarnataka/status/1270353657301741571'\n",
    "# driver = webdriver.Chrome(executable_path='C:\\Program Files (x86)\\Google\\Chrome\\Application\\chromedriver.exe') #the path where chromedriver.exe is installed in your local system\n",
    "# driver.get(link)\n",
    "# time.sleep(10)\n",
    "# elements = []\n",
    "# images = []\n",
    "# try:\n",
    "#     elements.extend(driver.find_elements_by_class_name('css-9pa8cd'))\n",
    "# except:\n",
    "#     pass\n",
    "# for i in elements:\n",
    "#     images.append(i.get_attribute(\"src\"))\n",
    "# #driver.get(images[3])\n",
    "# #images[3] contains the relevant image\n",
    "# driver.close()\n",
    "# images[3]"
   ]
  },
  {
   "cell_type": "code",
   "execution_count": null,
   "metadata": {},
   "outputs": [],
   "source": []
  }
 ],
 "metadata": {
  "kernelspec": {
   "display_name": "Python 3",
   "language": "python",
   "name": "python3"
  },
  "language_info": {
   "codemirror_mode": {
    "name": "ipython",
    "version": 3
   },
   "file_extension": ".py",
   "mimetype": "text/x-python",
   "name": "python",
   "nbconvert_exporter": "python",
   "pygments_lexer": "ipython3",
   "version": "3.7.7"
  }
 },
 "nbformat": 4,
 "nbformat_minor": 4
}
